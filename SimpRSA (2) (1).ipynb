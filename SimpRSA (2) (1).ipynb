{
 "cells": [
  {
   "cell_type": "markdown",
   "metadata": {},
   "source": [
    "## RSA - The Project"
   ]
  },
  {
   "cell_type": "markdown",
   "metadata": {},
   "source": [
    "Name:  Jonathan Hu\n",
    "\n",
    "Moodle Email: johu5262@colorado.edu\n",
    "\n",
    "Name your file \"cuidentikey\".ipynb  This means YOUR identikey. \n",
    "\n",
    "**Do NOT delete instructions or pre-existing comments in the code.** \n"
   ]
  },
  {
   "cell_type": "markdown",
   "metadata": {},
   "source": [
    "<hr />\n",
    "\n",
    "# Table of Contents/Grading\n",
    "\n",
    "### 0. Overall structure, code comments, and following directions. (5 points)\n",
    "\n",
    "### 1. Introduction  (5 points)\n",
    "\n",
    "### 2. RSA Code Package    (10 points)\n",
    "###### &nbsp;&nbsp;&nbsp;&nbsp;&nbsp;&nbsp; 2.1 Basic tool set\n",
    "###### &nbsp;&nbsp;&nbsp;&nbsp;&nbsp;&nbsp; 2.2 First tool set\n",
    "###### &nbsp;&nbsp;&nbsp;&nbsp;&nbsp;&nbsp; 2.3 Second tool set\n",
    "\n",
    "### 3. RSA More Code  (10 points)\n",
    "\n",
    "###### &nbsp;&nbsp;&nbsp;&nbsp;&nbsp;&nbsp;  Encode\n",
    "###### &nbsp;&nbsp;&nbsp;&nbsp;&nbsp;&nbsp;  Decode\n",
    "\n",
    "### 4. Create a demo of encoding and decoding a message that highlights how your code works and the steps involved.   (10 points)\n",
    "\n",
    "### 5. Results of exchanging codes with others.  (5 points)\n",
    "\n",
    "### 6. Narrative (25 points)\n",
    "\n",
    "### 7. Why FME?  (5 points)\n",
    "\n",
    "### 8. How to break codes  (5 points)\n",
    "\n",
    "### 9. Code breaking complete examples  (5 points)\n",
    "\n",
    "### 10. Custom code feature / Advanced options  (15 points) \n"
   ]
  },
  {
   "cell_type": "markdown",
   "metadata": {},
   "source": []
  },
  {
   "cell_type": "markdown",
   "metadata": {},
   "source": []
  },
  {
   "cell_type": "markdown",
   "metadata": {},
   "source": []
  },
  {
   "cell_type": "markdown",
   "metadata": {},
   "source": [
    "\n",
    "\n",
    "\n",
    "\n",
    "\n"
   ]
  },
  {
   "cell_type": "markdown",
   "metadata": {},
   "source": [
    "\n",
    "\n",
    "\n",
    "\n",
    "\n",
    "\n",
    "### 1. Introduction to your RSA Package and Project.  Give an overview of your project and what you have learned. "
   ]
  },
  {
   "cell_type": "markdown",
   "metadata": {},
   "source": [
    "Write an introduction/overview here. This should be something someone who has never seen your project could read to understand what is coming. \n"
   ]
  },
  {
   "cell_type": "markdown",
   "metadata": {},
   "source": [
    "### 2.1\n",
    "#### Basic tool set\n",
    "\n",
    "These are functions that you'll need to pre-process the messages before the messages are encoded and decoded by the RSA algorithm. That is the reason we will be defining them first.\n",
    "\n"
   ]
  },
  {
   "cell_type": "code",
   "execution_count": 12,
   "metadata": {},
   "outputs": [],
   "source": [
    "def Convert_Text(_string):\n",
    "    \"\"\"\n",
    "    Define this function such that it takes in a simple \n",
    "    string such as \"hello\" and outputs the corresponding\n",
    "    standard list of integers (ascii) for each letter in the word hello.\n",
    "    For example:\n",
    "    _string = hello\n",
    "    integer_list = [104, 101, 108, 108, 111]\n",
    "    \n",
    "    You may use \"ord()\"\n",
    "    \"\"\"\n",
    "    integer_list = [ord(char) for char in _string]\n",
    "    return integer_list"
   ]
  },
  {
   "cell_type": "code",
   "execution_count": 13,
   "metadata": {},
   "outputs": [],
   "source": [
    "def Convert_Num(_list):\n",
    "    \"\"\"\n",
    "    Do the opposite of what you did in the Convert_Text\n",
    "    function defined above.\n",
    "    \n",
    "    Define this function such that it takes in a list of integers\n",
    "    and outputs the corresponding string (ascii).\n",
    "    \n",
    "    For example:\n",
    "    _list = [104, 101, 108, 108, 111]\n",
    "    _string = hello\n",
    "    \"\"\"\n",
    "    # Initialize an empty string to store the result\n",
    "    output_string = \"\"\n",
    "\n",
    "    # Iterate through each integer in the list\n",
    "    for integer in _list:\n",
    "        # Convert the integer to its corresponding ASCII character and append to the string\n",
    "        output_string += chr(integer)\n",
    "\n",
    "    # Return the final string\n",
    "    return output_string\n"
   ]
  },
  {
   "cell_type": "code",
   "execution_count": 14,
   "metadata": {},
   "outputs": [],
   "source": [
    "def Convert_Binary_String(_int):\n",
    "    \"\"\"\n",
    "    Here, you need to define a function that converts an integer to\n",
    "    a string of its binary expansion.\n",
    "    \n",
    "    For example:\n",
    "    _int = 345\n",
    "    bits = 101011001\n",
    "    \"\"\"\n",
    "    bits = bin(_int)[2:]\n",
    "    return bits"
   ]
  },
  {
   "cell_type": "markdown",
   "metadata": {},
   "source": [
    "Now that you're done with the basic toolset we'll move on to the first tool set which is actually involved in the RSA system."
   ]
  },
  {
   "cell_type": "markdown",
   "metadata": {},
   "source": [
    "### 2.2 \n",
    "#### First tool set.\n",
    "\n"
   ]
  },
  {
   "cell_type": "code",
   "execution_count": 15,
   "metadata": {},
   "outputs": [],
   "source": [
    "def FME(base, exponent, modulus):\n",
    "    \"\"\"\n",
    "    1. Using the fast modular exponentiation algorithm,\n",
    "    the below function should return b**n mod m.\n",
    "    As described on page 254. (however, you may input the exponent and \n",
    "    then convert it to a string - the book verison imports the binary expansion)  \n",
    "    2. You should use the function defined above Convert_Binary_String() if using the book algorithm.\n",
    "    3. For this block you MUST use one of the 3 methods offered in the Mastery Workbook.\n",
    "    4. Any method using bit-shifting or copied from the internet (even changing varibale names) will result in a 0.\n",
    "    5. **If you are completely stuck, you may use pow() with a 10pt penalty.**\n",
    "\n",
    "    You may use the function you developed in your Mastery Workbook - but be sure it is your own\n",
    "    work, commented, etc. and change inputs as needed.\n",
    "    \"\"\"  \n",
    "    result = 1\n",
    "    # Ensure base is within the modulus\n",
    "    base = base % modulus  \n",
    "    while exponent > 0:\n",
    "        # If exponent is odd, multiply result with base\n",
    "        if exponent % 2 == 1:\n",
    "            result = (result * base) % modulus\n",
    "\n",
    "        # Now exponent is even, divide it by 2\n",
    "        exponent //= 2\n",
    "        base = (base * base) % modulus\n",
    "\n",
    "    return result"
   ]
  },
  {
   "cell_type": "code",
   "execution_count": 16,
   "metadata": {},
   "outputs": [],
   "source": [
    "def Euclidean_Alg(a, b):\n",
    "    \"\"\"\n",
    "    1. Calculate the Greatest Common Divisor of a and b.\n",
    "    \n",
    "    2. This version should have only postive inputs and outputs.\n",
    "    \n",
    "    3. The function must return a single integer ('x') which is\n",
    "    the gcd of a and b.\n",
    "    \n",
    "    \n",
    "    \"\"\"\n",
    "    # Ensure a is greater than or equal to b\n",
    "    if b > a:\n",
    "        a, b = b, a\n",
    "    \n",
    "    while b != 0:\n",
    "        a, b = b, a % b\n",
    "    \n",
    "    # The GCD is the absolute value of a\n",
    "    return abs(a)"
   ]
  },
  {
   "cell_type": "markdown",
   "metadata": {},
   "source": [
    "### 2.3\n",
    "#### Second tool set\n",
    "\n",
    "Here we will implement the core of the RSA cryptosystem. The functions below will generate the public and private key pairs which will then be used to create a ciphertext using the public key and then decode the same using the pirvate key.\n",
    "\n"
   ]
  },
  {
   "cell_type": "code",
   "execution_count": 17,
   "metadata": {},
   "outputs": [],
   "source": [
    "def Find_Public_Key_e(p, q):\n",
    "    \"\"\"\n",
    "    Implement this function such that\n",
    "    it takes 2 primes p and q.\n",
    "    \n",
    "    Use the gcd function that you have \n",
    "    defined before.\n",
    "    \n",
    "    The function should return 2 elements as follows:\n",
    "    public key: n\n",
    "    public key: e\n",
    "    \n",
    "    HINT: this function will run a loop to find e such \n",
    "    that e is relatively prime to (p - 1) (q - 1) \n",
    "    and not equal to p or q.\n",
    "    \n",
    "    NOTE: There are a number of ways to implement this key feature. \n",
    "    You, as the coder, can choose to how to acheive this goal.\n",
    "    \n",
    "    \"\"\"\n",
    "    n = p * q\n",
    "    rprime = (p - 1) * (q - 1)  \n",
    "\n",
    "    e = 2  \n",
    "    while e < rprime:\n",
    "        if Euclidean_Alg(e, rprime) == 1:\n",
    "            break\n",
    "        e += 1\n",
    "\n",
    "    return n, e\n"
   ]
  },
  {
   "cell_type": "code",
   "execution_count": 18,
   "metadata": {},
   "outputs": [],
   "source": [
    "def Find_Private_Key_d(e, p, q):\n",
    "    \"\"\"\n",
    "    Implement this function to find the decryption exponent d, \n",
    "    such that d is the modular inverse of e. \n",
    "    \n",
    "    This will use the Extended Euclidean Algorithm\n",
    "    \n",
    "    This function should return the following:\n",
    "    d: the decryption component.\n",
    "    \n",
    "    This is not a single action, and there are multiple methods to create this. \n",
    "    \n",
    "    You may create a helper function or have all code within this function.\n",
    "    \n",
    "    Plan ahead before coding this.\n",
    "\n",
    "    \"\"\"\n",
    "    def extended_gcd(a, b):\n",
    "        \"\"\"\n",
    "        Helper function to calculate the extended GCD.\n",
    "        \"\"\"\n",
    "        if a == 0:\n",
    "            return b, 0, 1\n",
    "        else:\n",
    "            g, x, y = extended_gcd(b % a, a)\n",
    "            return g, y - (b // a) * x, x\n",
    "\n",
    "    # Calculate n\n",
    "    n = p * q\n",
    "\n",
    "    rprime = (p - 1) * (q - 1)\n",
    "\n",
    "    _, x, _ = extended_gcd(e, rprime)\n",
    "\n",
    "    # Ensure 'd' is positive\n",
    "    d = x % rprime\n",
    "\n",
    "    return d"
   ]
  },
  {
   "cell_type": "markdown",
   "metadata": {},
   "source": [
    "### 3.\n",
    "#### Putting things all together.\n",
    "\n",
    "1. In this part, you will define two functions `Encode` and `Decode` which will use the public and private keys that you calculated using the above 2 functions in the second toolset.\n",
    "2. Using the public key, the `Encode` function will encode a message and generate the corresponding cipher_text.\n",
    "3. Using the private key, the `Decode` function will decode a ciper_text and recover the original message.\n",
    "\n"
   ]
  },
  {
   "cell_type": "code",
   "execution_count": 19,
   "metadata": {},
   "outputs": [],
   "source": [
    "def Encode(n, e, message):\n",
    "    \"\"\"\n",
    "    Here, the message will be a string of characters.\n",
    "    Use the function Convert_Text from \n",
    "    the basic tool set and get a list of numbers.\n",
    "    \n",
    "    Encode each of these numbers using n and e and\n",
    "    return the encoded cipher_text.\n",
    "    \"\"\"\n",
    "    # Convert the message to a list of integers using Convert_Text\n",
    "    integer_list = Convert_Text(message)\n",
    "    \n",
    "    # Encode each number using the public key (n, e)\n",
    "    cipher_text = [pow(num, e, n) for num in integer_list]\n",
    "    \n",
    "    return cipher_text"
   ]
  },
  {
   "cell_type": "code",
   "execution_count": 20,
   "metadata": {},
   "outputs": [],
   "source": [
    "def Decode(n, d, cipher_text):\n",
    "    \"\"\"\n",
    "    Here, the cipher_text will be a list of integers.\n",
    "    First, you will decrypt each of those integers using \n",
    "    n and d.\n",
    "    \n",
    "    Later, you will need to use the function Convert_Num from the \n",
    "    basic toolset to recover the original message as a string. \n",
    "    \n",
    "    \"\"\"\n",
    "    # Decrypt each number using the private key (n, d)\n",
    "    decrypted_numbers = [pow(num, d, n) for num in cipher_text]\n",
    "    \n",
    "    # Convert the list of decrypted integers back to the original message\n",
    "    original_message = Convert_Num(decrypted_numbers)\n",
    "    \n",
    "    return original_message"
   ]
  },
  {
   "cell_type": "markdown",
   "metadata": {},
   "source": [
    "# ---------------------------------------------------------------------------------------------------------------------------"
   ]
  },
  {
   "cell_type": "markdown",
   "metadata": {
    "tags": []
   },
   "source": [
    "### 4.  Create a Demo \n",
    "This is a **step-by-step** guide to using your code with a specific example that we can follow using the functions you have created above in a mix of code and text blocks. \n",
    "\n",
    "**This is essentially a test that demonstates that your code works and how it works. You will call the functions above. You are not using a main function or custom feature here - just calling the functions.**\n",
    "\n",
    "Imagine you are showing me how you code works in person. \n",
    "Your function calls show how it works with an example.\n",
    "You text s what you would say to me.\n",
    "\n",
    "It is mix of code blocks and **text blocks** and must discuss all three parts of the project for full credit. You must **show and explain your method and demonstrate (by calling your function as an example.** for generating keys and how your encoding and decoding functions work. \n",
    "\n",
    "\n",
    "* Generate keys. \n",
    "\n",
    "* Encode a message.\n",
    "\n",
    "* Decode the same message. \n"
   ]
  },
  {
   "cell_type": "markdown",
   "metadata": {},
   "source": [
    "## Generate Keys"
   ]
  },
  {
   "cell_type": "code",
   "execution_count": 21,
   "metadata": {},
   "outputs": [
    {
     "name": "stdout",
     "output_type": "stream",
     "text": [
      "Prime Numbers: p = 181, q = 97\n",
      "Public Key (n, e): (17557, 7)\n",
      "Private Key (d): 12343\n"
     ]
    }
   ],
   "source": [
    "# The Find_Public_Key_e function is used to generate the public key, and the Find_Private_Key_d function is used to generate the private key.\n",
    "p = 181\n",
    "q = 97\n",
    "public_key = Find_Public_Key_e(p, q)\n",
    "private_key = Find_Private_Key_d(public_key[1], p, q)\n",
    "\n",
    "print(f\"Prime Numbers: p = {p}, q = {q}\")\n",
    "print(f\"Public Key (n, e): {public_key}\")\n",
    "print(f\"Private Key (d): {private_key}\")"
   ]
  },
  {
   "cell_type": "markdown",
   "metadata": {},
   "source": [
    "## Encoding a message"
   ]
  },
  {
   "cell_type": "code",
   "execution_count": 22,
   "metadata": {},
   "outputs": [
    {
     "name": "stdout",
     "output_type": "stream",
     "text": [
      "Message to Encode: What is your favorite instrument?\n",
      "Encoded Message: [6229, 16018, 14938, 3547, 4645, 7578, 6860, 4645, 13925, 16893, 9437, 12571, 4645, 5084, 14938, 1756, 16893, 12571, 7578, 3547, 6296, 4645, 7578, 14834, 6860, 3547, 12571, 9437, 6895, 6296, 14834, 3547, 6932]\n"
     ]
    }
   ],
   "source": [
    "message_to_encode = \"What is your favorite instrument?\"\n",
    "encoded_message = Encode(public_key[0], public_key[1], message_to_encode)\n",
    "\n",
    "print(f\"Message to Encode: {message_to_encode}\")\n",
    "print(f\"Encoded Message: {encoded_message}\")"
   ]
  },
  {
   "cell_type": "markdown",
   "metadata": {},
   "source": [
    "## Decoding"
   ]
  },
  {
   "cell_type": "code",
   "execution_count": 23,
   "metadata": {},
   "outputs": [
    {
     "name": "stdout",
     "output_type": "stream",
     "text": [
      "Decoded Message: What is your favorite instrument?\n"
     ]
    }
   ],
   "source": [
    "# We use the Public Key and Private Key \"n\" values as inputs\n",
    "cipher_text_str = \"6229, 16018, 14938, 3547, 4645, 7578, 6860, 4645, 13925, 16893, 9437, 12571, 4645, 5084, 14938, 1756, 16893, 12571, 7578, 3547, 6296, 4645, 7578, 14834, 6860, 3547, 12571, 9437, 6895, 6296, 14834, 3547, 6932\"\n",
    "# Convert the string to a list of integers\n",
    "cipher_text = [int(num) for num in cipher_text_str.split(', ')]\n",
    "\n",
    "decoded_message = Decode(public_key[0], private_key, cipher_text)\n",
    "print(f\"Decoded Message: {decoded_message}\")"
   ]
  },
  {
   "cell_type": "markdown",
   "metadata": {},
   "source": [
    "# ---------------------------------------------------------------------------------------------------------------------------"
   ]
  },
  {
   "cell_type": "markdown",
   "metadata": {},
   "source": [
    "### 5. Code Exchange\n",
    "Now that your code is working and you are able read and write message, include 3 complete examples of exhanging code from Piazza here. Put BOTH the code and solutions here. "
   ]
  },
  {
   "cell_type": "markdown",
   "metadata": {},
   "source": [
    "### Post By Professor Stade"
   ]
  },
  {
   "cell_type": "code",
   "execution_count": 24,
   "metadata": {},
   "outputs": [
    {
     "name": "stdout",
     "output_type": "stream",
     "text": [
      "Public Key (n, e): (5251, 3)\n",
      "Private Key (d): 3403\n"
     ]
    }
   ],
   "source": [
    "# Manually set public and private keys\n",
    "n = 5251\n",
    "e = 3\n",
    "d = 3403\n",
    "\n",
    "print(f\"Public Key (n, e): ({n}, {e})\")\n",
    "print(f\"Private Key (d): {d}\")"
   ]
  },
  {
   "cell_type": "code",
   "execution_count": 25,
   "metadata": {},
   "outputs": [
    {
     "name": "stdout",
     "output_type": "stream",
     "text": [
      "Decoded Message: What song best describes the feeling you get when your RSA code is working?\n"
     ]
    }
   ],
   "source": [
    "# Decoding\n",
    "cipher_text_str = \"2128, 1150, 4250, 1349, 1262, 3336, 2371, 2497, 519, 1262, 1263, 1105, 3336, 1349, 1262, 2310, 1105, 3336, 4115, 762, 2405, 1263, 1105, 3336, 1262, 1349, 1150, 1105, 1262, 506, 1105, 1105, 4723, 2405, 2497, 519, 1262, 1974, 2371, 58, 1262, 519, 1105, 1349, 1262, 4839, 1150, 1105, 2497, 1262, 1974, 2371, 58, 762, 1262, 13, 4679, 1573, 1262, 4115, 2371, 2310, 1105, 1262, 2405, 3336, 1262, 4839, 2371, 762, 1560, 2405, 2497, 519, 3250\"\n",
    "# Convert the string to a list of integers\n",
    "cipher_text = [int(num) for num in cipher_text_str.split(', ')]\n",
    "\n",
    "decoded_message = Decode(n, d, cipher_text)\n",
    "print(f\"Decoded Message: {decoded_message}\")"
   ]
  },
  {
   "cell_type": "code",
   "execution_count": 26,
   "metadata": {},
   "outputs": [
    {
     "name": "stdout",
     "output_type": "stream",
     "text": [
      "Message to Encode: I Don't Daydream Anymore by Unlike Pluto. Probably my go to relaxation song\n",
      "Encoded Message: [43, 4645, 15968, 16893, 14834, 16895, 3547, 4645, 15968, 14938, 13925, 5485, 12571, 6296, 14938, 6895, 4645, 10390, 14834, 13925, 6895, 16893, 12571, 6296, 4645, 1747, 13925, 4645, 13766, 14834, 5206, 7578, 755, 6296, 4645, 39, 5206, 9437, 3547, 16893, 418, 4645, 39, 12571, 16893, 1747, 14938, 1747, 5206, 13925, 4645, 6895, 13925, 4645, 4553, 16893, 4645, 3547, 16893, 4645, 12571, 6296, 5206, 14938, 10405, 14938, 3547, 7578, 16893, 14834, 4645, 6860, 16893, 14834, 4553]\n"
     ]
    }
   ],
   "source": [
    "# Encoding a message\n",
    "message_to_encode = \"I Don't Daydream Anymore by Unlike Pluto. Probably my go to relaxation song\"\n",
    "encoded_message = Encode(public_key[0], public_key[1], message_to_encode)\n",
    "\n",
    "print(f\"Message to Encode: {message_to_encode}\")\n",
    "print(f\"Encoded Message: {encoded_message}\")"
   ]
  },
  {
   "cell_type": "markdown",
   "metadata": {},
   "source": [
    "# ---------------------------------------------------------------------------------------------------------------------------"
   ]
  },
  {
   "cell_type": "markdown",
   "metadata": {},
   "source": [
    "### Post by Derek Larson"
   ]
  },
  {
   "cell_type": "code",
   "execution_count": 27,
   "metadata": {},
   "outputs": [
    {
     "name": "stdout",
     "output_type": "stream",
     "text": [
      "Public Key (n, e): (1649, 115)\n",
      "Private Key (d): 187\n"
     ]
    }
   ],
   "source": [
    "# Manually set public and private keys\n",
    "n = 1649\n",
    "e = 115\n",
    "d = 187\n",
    "\n",
    "print(f\"Public Key (n, e): ({n}, {e})\")\n",
    "print(f\"Private Key (d): {d}\")"
   ]
  },
  {
   "cell_type": "code",
   "execution_count": 28,
   "metadata": {},
   "outputs": [
    {
     "name": "stdout",
     "output_type": "stream",
     "text": [
      "Decoded Message: Let's see if this thing works. What's your favorite pizza topping?\n"
     ]
    }
   ],
   "source": [
    "# Decoding\n",
    "cipher_text_str = \"155, 203, 1095, 23, 497, 825, 497, 203, 203, 825, 27, 1105, 825, 1095, 1096, 27, 497, 825, 1095, 1096, 27, 716, 188, 825, 1530, 1154, 317, 890, 497, 1507, 825, 1147, 1096, 776, 1095, 23, 497, 825, 722, 1154, 536, 317, 825, 1105, 776, 815, 1154, 317, 27, 1095, 203, 825, 1476, 27, 571, 571, 776, 825, 1095, 1154, 1476, 1476, 27, 716, 188, 504\"\n",
    "# Convert the string to a list of integers\n",
    "cipher_text = [int(num) for num in cipher_text_str.split(', ')]\n",
    "\n",
    "decoded_message = Decode(n, d, cipher_text)\n",
    "print(f\"Decoded Message: {decoded_message}\")"
   ]
  },
  {
   "cell_type": "code",
   "execution_count": 29,
   "metadata": {},
   "outputs": [
    {
     "name": "stdout",
     "output_type": "stream",
     "text": [
      "Message to Encode: Pepperoni\n",
      "Encoded Message: [1235, 203, 1476, 1476, 203, 317, 1154, 716, 27]\n"
     ]
    }
   ],
   "source": [
    "# Encoding a message\n",
    "message_to_encode = \"Pepperoni\"\n",
    "encoded_message = Encode(n, e, message_to_encode)\n",
    "\n",
    "print(f\"Message to Encode: {message_to_encode}\")\n",
    "print(f\"Encoded Message: {encoded_message}\")"
   ]
  },
  {
   "cell_type": "markdown",
   "metadata": {},
   "source": [
    "# ---------------------------------------------------------------------------------------------------------------------------"
   ]
  },
  {
   "cell_type": "markdown",
   "metadata": {},
   "source": [
    "### Post By Claire Lueking"
   ]
  },
  {
   "cell_type": "code",
   "execution_count": 30,
   "metadata": {},
   "outputs": [
    {
     "name": "stdout",
     "output_type": "stream",
     "text": [
      "Public Key (n, e): (2537, 5)\n",
      "Private Key (d): 1949\n"
     ]
    }
   ],
   "source": [
    "# Manually set public and private keys\n",
    "n = 2537\n",
    "e = 5\n",
    "d = 1949\n",
    "\n",
    "print(f\"Public Key (n, e): ({n}, {e})\")\n",
    "print(f\"Private Key (d): {d}\")"
   ]
  },
  {
   "cell_type": "code",
   "execution_count": 31,
   "metadata": {},
   "outputs": [
    {
     "name": "stdout",
     "output_type": "stream",
     "text": [
      "Decoded Message: What is your favorite book?\n"
     ]
    }
   ],
   "source": [
    "# Decoding\n",
    "cipher_text_str = \"1248, 492, 1177, 2033, 70, 761, 2471, 70, 1718, 67, 353, 392, 70, 2214, 1177, 2478, 67, 392, 761, 2033, 2102, 70, 1281, 67, 67, 2025, 198\"\n",
    "# Convert the string to a list of integers\n",
    "cipher_text = [int(num) for num in cipher_text_str.split(', ')]\n",
    "\n",
    "decoded_message = Decode(n, d, cipher_text)\n",
    "print(f\"Decoded Message: {decoded_message}\")"
   ]
  },
  {
   "cell_type": "code",
   "execution_count": 32,
   "metadata": {},
   "outputs": [
    {
     "name": "stdout",
     "output_type": "stream",
     "text": [
      "Message to Encode: Harry Potter and the Goblet of Fire\n",
      "Encoded Message: [1009, 1177, 392, 392, 1718, 70, 652, 67, 2033, 2033, 2102, 392, 70, 1177, 744, 969, 70, 2033, 492, 2102, 70, 1209, 67, 1281, 1716, 2102, 2033, 70, 67, 2214, 70, 925, 761, 392, 2102]\n"
     ]
    }
   ],
   "source": [
    "# Encoding a message\n",
    "message_to_encode = \"Harry Potter and the Goblet of Fire\"\n",
    "encoded_message = Encode(n, e, message_to_encode)\n",
    "\n",
    "print(f\"Message to Encode: {message_to_encode}\")\n",
    "print(f\"Encoded Message: {encoded_message}\")"
   ]
  },
  {
   "cell_type": "markdown",
   "metadata": {},
   "source": [
    "# ---------------------------------------------------------------------------------------------------------------------------"
   ]
  },
  {
   "cell_type": "markdown",
   "metadata": {
    "tags": []
   },
   "source": [
    "### 6. Write a Narrative (TWO pages of meaningful narrative about your process - not including the examples - about 800 words) here in this block.\n",
    "\n",
    "* Describe your process. Did you plan ahead? Did you wing it? Do you wish you'd planned ahead more?\n",
    "\n",
    "* Describe the results of exchanging keys and codes with classmates. Did it work the first time or did you need to make adjustments.Describe your process. Did you plan ahead? Did you wing it? Do you wish you'd planned ahead more?\n",
    "\n",
    "* What was most challenging? \n",
    "\n",
    "* Who helped you with your project?  Which resources were most helpful?\n",
    "\n",
    "* What was your Best Mistake? (funniest? most frustrating? the one you learned the most from?)\n",
    "\n",
    "\n"
   ]
  },
  {
   "cell_type": "markdown",
   "metadata": {},
   "source": [
    "## Describe your process. Did you plan ahead? Did you wing it? Do you wish you'd planned ahead more?\n",
    "    My process for completing this RSA project was to follow the provided instructions and implement the functions as dictated by the pseudo-code. \n",
    "    Each implementation of individual methods were not particularly difficult while working through them one by one, \n",
    "    but I also wanted to ensure they were working properly beforehand. Because of this, \n",
    "    I threw together a quick main function within each function to ensure the functions were performing properly. \n",
    "    While tedious, it gave me the confidence that my functions were returning the correct values. \n",
    "    Furthermore, I appreciated the clarity of the instructions provided for each of the functions since they provided a clear pseudo-code overview of what each function was required to return. \n",
    "    Since this is usually the way I complete most of the projects, I would say that my process was planned. \n",
    "\n",
    "## Describe the results of exchanging keys and codes with classmates. Did it work the first time or did you need to make adjustments. Describe your process. Did you plan ahead? Did you wing it? Do you wish you'd planned ahead more?\n",
    "    I thought that exchanging the codes went well and I was quite surprised to see how fun it was to decode people’s messages with a program that I wrote. \n",
    "    The one troubling aspect to the code exchange was actually rewriting my encoding and decoding functions to take custom inputted public keys. \n",
    "    Since my input required inputting two prime numbers rather than the output of the public key and private key, \n",
    "    I had to find a way for my program to take the output values rather than prime numbers. \n",
    "    Once I got this area of the code working, it was quite easy to decipher the messages that I found in Piazza. \n",
    "    For this section especially, I wish I planned more ahead since I never even considered having to take in the keys rather than prime numbers. \n",
    "    For my process in this section, it was also quite simple. I would take the keys provided, input them into my private and public key function and then decode it. \n",
    "    From there, I would then encode a message in response to the question and post it on Piazza. \n",
    "    I ensured that the messages and responses are present and saved within my program to show the outputs. \n",
    "\n",
    "## What was most challenging?\n",
    "    I think the most challenging part was the debugging for this project. \n",
    "    Honestly, my debugging skills are far from the greatest and finding the problems within my private and public key functions. \n",
    "    Within my private key function, I had to create a helper function, extended_gcd to help calculate the greatest common denominator within the function. \n",
    "    While this was annoying to implement and debug, it ultimately paid off since the function works properly. \n",
    "    Other than that, I think the only other annoying aspect of this project was figuring out how to take custom keys to decipher my classmates' messages which I talked about earlier. \n",
    "\n",
    "    \n",
    "## Who helped you with your project? Which resources were most helpful?\n",
    "    Overall, I completed the entire project on my own without the help from anyone. \n",
    "    The resources I used were online web pages for either python syntax or debugging assistance. \n",
    "    Along with this, rewatching a lot of lectures to understand both RSA and the Euclidean algorithm, especially Sriram’s video helped a lot in planning and understanding the formulas that needed to be implemented. \n",
    "\n",
    "## What was your Best Mistake? (funniest? most frustrating? the one you learned the most from?)\n",
    "    My best mistake has to be implementing incorrect variables within my function which would return my public and private keys based on the inputted values. \n",
    "    Instead of using publickey[1] as an input, I was using privatekey[0] for the longest time and I could not understand why my encoding and decoding were messing up. \n",
    "    This was especially frustrating when I could decode a message, and I would encode a message in return which would then return back random symbols. \n",
    "    After a while I realized my mistake and went on to complete the function but still a silly mistake that I made. \n"
   ]
  },
  {
   "cell_type": "markdown",
   "metadata": {},
   "source": [
    "# ---------------------------------------------------------------------------------------------------------------------------"
   ]
  },
  {
   "cell_type": "markdown",
   "metadata": {},
   "source": [
    "### 7. FME Exploration - (CODE INTERVIEW type question)\n",
    "\n",
    "\n",
    "\n",
    "* Explain in detail why RSA needs to use an FME function and cannot just simply use the Python Mod function % .\n",
    "\n",
    "* Provide some specific examples and/or include chart and graphs. \n",
    "\n",
    "* You may use your arguments/work from the Number Theory Mastery Workbook.\n",
    "\n",
    "\n"
   ]
  },
  {
   "cell_type": "markdown",
   "metadata": {},
   "source": [
    "## Exploration\n",
    "The security of RSA is based on the difficulty of factoring the product of two large prime numbers. \n",
    "The core operation in RSA involves exponentiation of integers modulo another integer. \n",
    "While the modulo operation is used in RSA, the need for an additional operation, the Fast Modular Exponentiation (FME) algorithm, \n",
    "arises due to efficiency and performance.\n",
    "The basic modulo operation has a time complexity proportional to the size of the modulus. For large numbers, this can be computationally expensive.\n",
    "The FME algorithm optimizes this process by breaking down the exponentiation into smaller, more manageable steps. \n",
    "It reduces the number of multiplications needed and significantly improves computational efficiency."
   ]
  },
  {
   "cell_type": "markdown",
   "metadata": {},
   "source": [
    "# ---------------------------------------------------------------------------------------------------------------------------"
   ]
  },
  {
   "cell_type": "markdown",
   "metadata": {},
   "source": [
    "## CODE BREAKING ##\n",
    "\n",
    "This section of the project is only available to students exchanging codes by the Friday (midnight) before the project is due.\n",
    "\n",
    "After you have tested your RSA package yourself, and tested it with classmates by publishing both the private and public keys on Piazza, post 2 messages with just the public keys for people to break on the \"Just Public Keys\" thread - use both very small n ‘s (under 1000) for practice, and some with a challenge.\n",
    "\n",
    "\n",
    "**Implementing a factoring algorithm:**\n",
    "\n",
    "Begin by coding the basic brute force factorization algorithm given in pseudocode below.\n",
    "\n",
    "Brute Force Factoring\n",
    "<pre><code>def factorize(n):\n",
    "    # n is a number, return the smallest factor of n\n",
    "    for i from 2 to n-1:\n",
    "        if i divides n:\n",
    "            return i\n",
    "        return FALSE\n",
    "        </code></pre>\n"
   ]
  },
  {
   "cell_type": "code",
   "execution_count": 33,
   "metadata": {},
   "outputs": [],
   "source": [
    "def factorize(n):\n",
    "    # n is a number, return the smallest factor of n\n",
    "    for i in range(2, n):\n",
    "        if n % i == 0:\n",
    "            return i\n",
    "    return False"
   ]
  },
  {
   "cell_type": "markdown",
   "metadata": {},
   "source": [
    "# ---------------------------------------------------------------------------------------------------------------------------"
   ]
  },
  {
   "cell_type": "markdown",
   "metadata": {
    "tags": []
   },
   "source": [
    "### 8. How to Break Code. \n",
    "* Explain in detail how breaking works in this text block. \n",
    "* What are the complete steps? What tools do you need?\n",
    "* How secure is RSA? Why is it difficult to break codes in RSA? \n",
    "* Is our implementation of RSA secure? What are it's flaws?\n",
    "\n",
    "\n",
    "\n",
    "\n",
    "\n",
    "\n",
    "\n"
   ]
  },
  {
   "cell_type": "markdown",
   "metadata": {},
   "source": [
    "### How to Break Code:\n",
    "\n",
    "Breaking RSA involves factoring the modulus (n) into its prime factors (p and q). \n",
    "The modulus is a product of two large prime numbers, and finding these prime factors is computationally difficult, especially as the size of n increases.\n",
    "\n",
    "The defactorization function broken down:\n",
    "for i in range(2, n): This line starts a for loop that iterates over values of i from 2 to n - 1. It's checking potential factors starting from 2\n",
    "    if n % i == 0: This line checks if i is a factor of n. The condition n % i == 0 checks if i evenly divides n\n",
    "        return i: If a factor is found, the function immediately returns that factor (i). This is because the smallest factor is the one found first\n",
    "return False: the loop completes without finding a factor, the function returns False, indicating that n is likely a prime number\n",
    "\n",
    "Factorization algorithms: For small n, brute-force methods like the function above may work, but for larger n values, more sophisticated algorithms like Pollard's rho algorithm are needed.\n",
    "\n",
    "RSA's security relies on the difficulty of factoring large numbers into their prime factors.\n",
    "The security increases with longer key lengths, making it computationally infeasible to factorize the modulus.\n",
    "The security of RSA is based on the lack of an efficient algorithm for factoring large semiprime numbers.\n",
    "\n",
    "The provided RSA implementation in the project is a pretty basic version of RSA. Its security depends on the size of the keys used.\n",
    "A flaw could be the use of small key sizes, which may be susceptible to attacks using more advanced factorization methods.\n",
    "The key generation process might be better implemented by including checks for prime numbers, ensuring the selected primes are indeed prime."
   ]
  },
  {
   "cell_type": "markdown",
   "metadata": {},
   "source": [
    "# ---------------------------------------------------------------------------------------------------------------------------"
   ]
  },
  {
   "cell_type": "markdown",
   "metadata": {},
   "source": [
    "### 9. Decode!  Use a mix of text and code blocks\n",
    "\n",
    "* Decode one example from Piazza in detial showing all the steps.\n",
    "* Decode and Respond to 3 \"just codes with public keys\" in Piazza with different sizes of n. Include complete results here.\n",
    "* What did you notice about larger n s?\n"
   ]
  },
  {
   "cell_type": "markdown",
   "metadata": {},
   "source": [
    "# What did you notice about larger n s?\n",
    "I understand the larger n's require a longer period of time code break using the factorize function, however I believe that the values\n",
    "from the forum posts I responded to did not drastically increase runtime. It was hard to notice a difference. "
   ]
  },
  {
   "cell_type": "markdown",
   "metadata": {},
   "source": [
    "# Breaking Professor Stade's Message:\n",
    "### The message: The Conquistador's treasure is buried south of Creed.\n",
    "### Response: If only I could understand the map..."
   ]
  },
  {
   "cell_type": "code",
   "execution_count": 34,
   "metadata": {},
   "outputs": [
    {
     "name": "stdout",
     "output_type": "stream",
     "text": [
      "p: 19\n",
      "q: 37\n"
     ]
    }
   ],
   "source": [
    "# Given public key\n",
    "public_key = (703, 113)  # Replace this with the public key we want to break\n",
    "\n",
    "# Extract the modulus 'n'\n",
    "n = public_key[0]\n",
    "\n",
    "# Use the factorize function to find a factor of 'n'\n",
    "factor = factorize(n)\n",
    "\n",
    "if factor:\n",
    "    print(f\"p: {factor}\")\n",
    "    # Use the factor to calculate the other factor and break the key\n",
    "    other_factor = n // factor\n",
    "    print(f\"q: {other_factor}\")\n",
    "else:\n",
    "    print(\"Unable to find a factor.\")"
   ]
  },
  {
   "cell_type": "code",
   "execution_count": 35,
   "metadata": {},
   "outputs": [
    {
     "name": "stdout",
     "output_type": "stream",
     "text": [
      "Prime Numbers: p = 19, q = 37\n",
      "Public Key (n, e): (703, 5)\n",
      "Private Key (d): 389\n"
     ]
    }
   ],
   "source": [
    "# Generate keys\n",
    "\n",
    "# The Find_Public_Key_e function is used to generate the public key, and the Find_Private_Key_d function is used to generate the private key.\n",
    "p = 19\n",
    "q = 37\n",
    "public_key = Find_Public_Key_e(p, q)\n",
    "private_key = Find_Private_Key_d(public_key[1], p, q)\n",
    "\n",
    "print(f\"Prime Numbers: p = {p}, q = {q}\")\n",
    "print(f\"Public Key (n, e): {public_key}\")\n",
    "print(f\"Private Key (d): {private_key}\")"
   ]
  },
  {
   "cell_type": "code",
   "execution_count": 36,
   "metadata": {},
   "outputs": [
    {
     "name": "stdout",
     "output_type": "stream",
     "text": [
      "Decoded Message: The Conquistador's treasure is buried south of Creed.\n"
     ]
    }
   ],
   "source": [
    "# Decoding\n",
    "# We use the Public Key and Private Key \"n\" values as inputs\n",
    "cipher_text_str = \"544, 472, 233, 242, 250, 555, 591, 550, 376, 364, 210, 165, 526, 47, 555, 95, 476, 210, 242, 165, 95, 233, 526, 210, 376, 95, 233, 242, 364, 210, 242, 224, 376, 95, 364, 233, 47, 242, 210, 555, 376, 165, 472, 242, 555, 410, 242, 250, 95, 233, 233, 47, 145\"\n",
    "# Convert the string to a list of integers\n",
    "cipher_text = [int(num) for num in cipher_text_str.split(', ')]\n",
    "\n",
    "decoded_message = Decode(public_key[0], private_key, cipher_text)\n",
    "print(f\"Decoded Message: {decoded_message}\")"
   ]
  },
  {
   "cell_type": "code",
   "execution_count": 37,
   "metadata": {},
   "outputs": [
    {
     "name": "stdout",
     "output_type": "stream",
     "text": [
      "Message to Encode: If only I could understand the map...\n",
      "Encoded Message: [517, 410, 242, 555, 591, 90, 581, 242, 517, 242, 511, 555, 376, 90, 47, 242, 376, 591, 47, 233, 95, 210, 165, 526, 591, 47, 242, 165, 472, 233, 242, 523, 526, 519, 145, 145, 145]\n"
     ]
    }
   ],
   "source": [
    "# Encoding a message\n",
    "message_to_encode = \"If only I could understand the map...\"\n",
    "encoded_message = Encode(public_key[0], public_key[1], message_to_encode)\n",
    "\n",
    "print(f\"Message to Encode: {message_to_encode}\")\n",
    "print(f\"Encoded Message: {encoded_message}\")"
   ]
  },
  {
   "cell_type": "markdown",
   "metadata": {},
   "source": [
    "# ---------------------------------------------------------------------------------------------------------------------------"
   ]
  },
  {
   "cell_type": "markdown",
   "metadata": {},
   "source": [
    "# Breaking James Keller's Code\n",
    "### The Message: Keep Clam and Code On\n",
    "### Response: Wise words to live by!"
   ]
  },
  {
   "cell_type": "code",
   "execution_count": 38,
   "metadata": {},
   "outputs": [
    {
     "name": "stdout",
     "output_type": "stream",
     "text": [
      "p: 89\n",
      "q: 97\n"
     ]
    }
   ],
   "source": [
    "# Given public key\n",
    "public_key = (8633, 5)  # Replace this with the public key we want to break\n",
    "\n",
    "# Extract the modulus 'n'\n",
    "n = public_key[0]\n",
    "\n",
    "# Use the factorize function to find a factor of 'n'\n",
    "factor = factorize(n)\n",
    "\n",
    "if factor:\n",
    "    print(f\"p: {factor}\")\n",
    "    # Use the factor to calculate the other factor and break the key\n",
    "    other_factor = n // factor\n",
    "    print(f\"q: {other_factor}\")\n",
    "else:\n",
    "    print(\"Unable to find a factor.\")"
   ]
  },
  {
   "cell_type": "code",
   "execution_count": 39,
   "metadata": {},
   "outputs": [
    {
     "name": "stdout",
     "output_type": "stream",
     "text": [
      "Prime Numbers: p = 89, q = 97\n",
      "Public Key (n, e): (8633, 5)\n",
      "Private Key (d): 5069\n"
     ]
    }
   ],
   "source": [
    "# Generate keys\n",
    "\n",
    "# The Find_Public_Key_e function is used to generate the public key, and the Find_Private_Key_d function is used to generate the private key.\n",
    "p = 89\n",
    "q = 97\n",
    "public_key = Find_Public_Key_e(p, q)\n",
    "private_key = Find_Private_Key_d(public_key[1], p, q)\n",
    "\n",
    "print(f\"Prime Numbers: p = {p}, q = {q}\")\n",
    "print(f\"Public Key (n, e): {public_key}\")\n",
    "print(f\"Private Key (d): {private_key}\")"
   ]
  },
  {
   "cell_type": "code",
   "execution_count": 40,
   "metadata": {},
   "outputs": [
    {
     "name": "stdout",
     "output_type": "stream",
     "text": [
      "Decoded Message: Keep Clam and Code On\n"
     ]
    }
   ],
   "source": [
    "# Decoding\n",
    "# We use the Public Key and Private Key \"n\" values as inputs\n",
    "cipher_text_str = \"7835, 1412, 1412, 1999, 6594, 1604, 1098, 194, 6235, 6594, 194, 5409, 7615, 6594, 1604, 1511, 7615, 1412, 6594, 4842, 5409\"\n",
    "# Convert the string to a list of integers\n",
    "cipher_text = [int(num) for num in cipher_text_str.split(', ')]\n",
    "\n",
    "decoded_message = Decode(public_key[0], private_key, cipher_text)\n",
    "print(f\"Decoded Message: {decoded_message}\")"
   ]
  },
  {
   "cell_type": "code",
   "execution_count": 41,
   "metadata": {},
   "outputs": [
    {
     "name": "stdout",
     "output_type": "stream",
     "text": [
      "Message to Encode: Wise words to live by!\n",
      "Encoded Message: [7088, 4250, 2724, 1412, 6594, 8073, 1511, 456, 7615, 2724, 6594, 950, 1511, 6594, 1098, 4250, 6706, 1412, 6594, 8052, 7751, 2004]\n"
     ]
    }
   ],
   "source": [
    "# Encoding a message\n",
    "message_to_encode = \"Wise words to live by!\"\n",
    "encoded_message = Encode(public_key[0], public_key[1], message_to_encode)\n",
    "\n",
    "print(f\"Message to Encode: {message_to_encode}\")\n",
    "print(f\"Encoded Message: {encoded_message}\")"
   ]
  },
  {
   "cell_type": "markdown",
   "metadata": {},
   "source": [
    "# ---------------------------------------------------------------------------------------------------------------------------"
   ]
  },
  {
   "cell_type": "markdown",
   "metadata": {},
   "source": [
    "# Breaking Ebrahim Azarisooreh's Code\n",
    "### The Message: The answer to life, the universe, and everything is: 42.\n",
    "### Response: Who knew the meaning of everything could be a two-digit number? Time to rethink those existential crises!"
   ]
  },
  {
   "cell_type": "code",
   "execution_count": 42,
   "metadata": {},
   "outputs": [
    {
     "name": "stdout",
     "output_type": "stream",
     "text": [
      "p: 151\n",
      "q: 293\n"
     ]
    }
   ],
   "source": [
    "# Given public key\n",
    "public_key = (44243, 7)  # Replace this with the public key we want to break\n",
    "\n",
    "# Extract the modulus 'n'\n",
    "n = public_key[0]\n",
    "\n",
    "# Use the factorize function to find a factor of 'n'\n",
    "factor = factorize(n)\n",
    "\n",
    "if factor:\n",
    "    print(f\"p: {factor}\")\n",
    "    # Use the factor to calculate the other factor and break the key\n",
    "    other_factor = n // factor\n",
    "    print(f\"q: {other_factor}\")\n",
    "else:\n",
    "    print(\"Unable to find a factor.\")"
   ]
  },
  {
   "cell_type": "code",
   "execution_count": 43,
   "metadata": {},
   "outputs": [
    {
     "name": "stdout",
     "output_type": "stream",
     "text": [
      "Prime Numbers: p = 151, q = 293\n",
      "Public Key (n, e): (44243, 7)\n",
      "Private Key (d): 37543\n"
     ]
    }
   ],
   "source": [
    "# Generate keys\n",
    "\n",
    "# The Find_Public_Key_e function is used to generate the public key, and the Find_Private_Key_d function is used to generate the private key.\n",
    "p = 151\n",
    "q = 293\n",
    "public_key = Find_Public_Key_e(p, q)\n",
    "private_key = Find_Private_Key_d(public_key[1], p, q)\n",
    "\n",
    "print(f\"Prime Numbers: p = {p}, q = {q}\")\n",
    "print(f\"Public Key (n, e): {public_key}\")\n",
    "print(f\"Private Key (d): {private_key}\")"
   ]
  },
  {
   "cell_type": "code",
   "execution_count": 44,
   "metadata": {},
   "outputs": [
    {
     "name": "stdout",
     "output_type": "stream",
     "text": [
      "Decoded Message: The answer to life, the universe, and everything is: 42.\n"
     ]
    }
   ],
   "source": [
    "# Decoding\n",
    "# We use the Public Key and Private Key \"n\" values as inputs\n",
    "cipher_text_str = \"2694, 14335, 23616, 5166, 10909, 11297, 10095, 16427, 23616, 13887, 5166, 37331, 3687, 5166, 29541, 22886, 30381, 23616, 14127, 5166, 37331, 14335, 23616, 5166, 20850, 11297, 22886, 38925, 23616, 13887, 10095, 23616, 14127, 5166, 10909, 11297, 20406, 5166, 23616, 38925, 23616, 13887, 14634, 37331, 14335, 22886, 11297, 40714, 5166, 22886, 10095, 44189, 5166, 31566, 27120, 39024\"\n",
    "# Convert the string to a list of integers\n",
    "cipher_text = [int(num) for num in cipher_text_str.split(', ')]\n",
    "\n",
    "decoded_message = Decode(public_key[0], private_key, cipher_text)\n",
    "print(f\"Decoded Message: {decoded_message}\")"
   ]
  },
  {
   "cell_type": "code",
   "execution_count": 45,
   "metadata": {},
   "outputs": [
    {
     "name": "stdout",
     "output_type": "stream",
     "text": [
      "Message to Encode: Who knew the meaning of everything could be a two-digit number? Time to rethink those existential crises!\n",
      "Encoded Message: [12212, 14335, 3687, 5166, 12751, 11297, 23616, 16427, 5166, 37331, 14335, 23616, 5166, 21244, 23616, 10909, 11297, 22886, 11297, 40714, 5166, 3687, 30381, 5166, 23616, 38925, 23616, 13887, 14634, 37331, 14335, 22886, 11297, 40714, 5166, 32609, 3687, 20850, 29541, 20406, 5166, 25756, 23616, 5166, 10909, 5166, 37331, 16427, 3687, 21276, 20406, 22886, 40714, 22886, 37331, 5166, 11297, 20850, 21244, 25756, 23616, 13887, 24582, 5166, 2694, 22886, 21244, 23616, 5166, 37331, 3687, 5166, 13887, 23616, 37331, 14335, 22886, 11297, 12751, 5166, 37331, 14335, 3687, 10095, 23616, 5166, 23616, 8085, 22886, 10095, 37331, 23616, 11297, 37331, 22886, 10909, 29541, 5166, 32609, 13887, 22886, 10095, 23616, 10095, 1694]\n"
     ]
    }
   ],
   "source": [
    "# Encoding a message\n",
    "message_to_encode = \"Who knew the meaning of everything could be a two-digit number? Time to rethink those existential crises!\"\n",
    "encoded_message = Encode(public_key[0], public_key[1], message_to_encode)\n",
    "\n",
    "print(f\"Message to Encode: {message_to_encode}\")\n",
    "print(f\"Encoded Message: {encoded_message}\")"
   ]
  },
  {
   "cell_type": "markdown",
   "metadata": {},
   "source": [
    "# ---------------------------------------------------------------------------------------------------------------------------"
   ]
  },
  {
   "cell_type": "markdown",
   "metadata": {},
   "source": [
    "# My own forum post\n",
    "### Message: I still can't believe it's not butter\n",
    "### Encoded Message: [6033, 7329, 58337, 21990, 64362, 65098, 65098, 7329, 75756, 8916, 101757, 72851, 21990, 7329, 81277, 94328, 65098, 64362, 94328, 11237, 94328, 7329, 64362, 21990, 72851, 58337, 7329, 101757, 69050, 21990, 7329, 81277, 46423, 21990, 21990, 94328, 82061]\n",
    "\n",
    "### Public Key: 103861, 5"
   ]
  },
  {
   "cell_type": "code",
   "execution_count": 46,
   "metadata": {},
   "outputs": [
    {
     "name": "stdout",
     "output_type": "stream",
     "text": [
      "Prime Numbers: p = 283, q = 367\n",
      "Public Key (n, e): (103861, 5)\n",
      "Private Key (d): 41285\n"
     ]
    }
   ],
   "source": [
    "# Generate keys\n",
    "\n",
    "# The Find_Public_Key_e function is used to generate the public key, and the Find_Private_Key_d function is used to generate the private key.\n",
    "p = 283\n",
    "q = 367\n",
    "public_key = Find_Public_Key_e(p, q)\n",
    "private_key = Find_Private_Key_d(public_key[1], p, q)\n",
    "\n",
    "print(f\"Prime Numbers: p = {p}, q = {q}\")\n",
    "print(f\"Public Key (n, e): {public_key}\")\n",
    "print(f\"Private Key (d): {private_key}\")"
   ]
  },
  {
   "cell_type": "code",
   "execution_count": 47,
   "metadata": {},
   "outputs": [
    {
     "name": "stdout",
     "output_type": "stream",
     "text": [
      "Message to Encode: I still can't believe it's not butter\n",
      "Encoded Message: [6033, 7329, 58337, 21990, 64362, 65098, 65098, 7329, 75756, 8916, 101757, 72851, 21990, 7329, 81277, 94328, 65098, 64362, 94328, 11237, 94328, 7329, 64362, 21990, 72851, 58337, 7329, 101757, 69050, 21990, 7329, 81277, 46423, 21990, 21990, 94328, 82061]\n"
     ]
    }
   ],
   "source": [
    "# Encoding a message\n",
    "message_to_encode = \"I still can't believe it's not butter\"\n",
    "encoded_message = Encode(public_key[0], public_key[1], message_to_encode)\n",
    "\n",
    "print(f\"Message to Encode: {message_to_encode}\")\n",
    "print(f\"Encoded Message: {encoded_message}\")"
   ]
  },
  {
   "cell_type": "code",
   "execution_count": 48,
   "metadata": {},
   "outputs": [
    {
     "name": "stdout",
     "output_type": "stream",
     "text": [
      "Decoded Message: I still can't believe it's not butter\n"
     ]
    }
   ],
   "source": [
    "# Decoding\n",
    "# We use the Public Key and Private Key \"n\" values as inputs\n",
    "cipher_text_str = \"6033, 7329, 58337, 21990, 64362, 65098, 65098, 7329, 75756, 8916, 101757, 72851, 21990, 7329, 81277, 94328, 65098, 64362, 94328, 11237, 94328, 7329, 64362, 21990, 72851, 58337, 7329, 101757, 69050, 21990, 7329, 81277, 46423, 21990, 21990, 94328, 82061\"\n",
    "# Convert the string to a list of integers\n",
    "cipher_text = [int(num) for num in cipher_text_str.split(', ')]\n",
    "\n",
    "decoded_message = Decode(public_key[0], private_key, cipher_text)\n",
    "print(f\"Decoded Message: {decoded_message}\")"
   ]
  },
  {
   "cell_type": "markdown",
   "metadata": {},
   "source": [
    "# ---------------------------------------------------------------------------------------------------------------------------"
   ]
  },
  {
   "cell_type": "markdown",
   "metadata": {},
   "source": [
    "\n",
    "\n",
    "\n"
   ]
  },
  {
   "cell_type": "markdown",
   "metadata": {},
   "source": [
    "\n",
    "### 10. Custom CODE Feature ##\n",
    "The custom feature should be a \"Stand Alone\" feature at the end of the notebook. If you want to use code from above, please copy the functions again as part of your feature so it can be tested independently. Be sure to provide a demonstration showing that it works. See RSA Guide for more information and suggestions. \n",
    "\n",
    "**Do not forget the self-grading element.**\n"
   ]
  },
  {
   "cell_type": "markdown",
   "metadata": {},
   "source": [
    "### This block was only used to help find the value to factor. This requires the functions from above to run, but not necessary to test. "
   ]
  },
  {
   "cell_type": "code",
   "execution_count": 49,
   "metadata": {},
   "outputs": [
    {
     "name": "stdout",
     "output_type": "stream",
     "text": [
      "Prime Numbers: p = 240279349, q = 240283567\n",
      "Public Key (n, e): (57735179054157883, 5)\n",
      "Private Key (d): 34641107144156981\n"
     ]
    }
   ],
   "source": [
    "# Generate keys\n",
    "\n",
    "# The Find_Public_Key_e function is used to generate the public key, and the Find_Private_Key_d function is used to generate the private key.\n",
    "p = 240279349\n",
    "q = 240283567\n",
    "public_key = Find_Public_Key_e(p, q)\n",
    "private_key = Find_Private_Key_d(public_key[1], p, q)\n",
    "\n",
    "print(f\"Prime Numbers: p = {p}, q = {q}\")\n",
    "print(f\"Public Key (n, e): {public_key}\")\n",
    "print(f\"Private Key (d): {private_key}\")"
   ]
  },
  {
   "cell_type": "markdown",
   "metadata": {},
   "source": [
    "# ---------------------------------------------------------------------------------------------------------------------------"
   ]
  },
  {
   "cell_type": "markdown",
   "metadata": {},
   "source": [
    "# Summary\n",
    "\n",
    "Custom CODE Feature Overview\n",
    "\n",
    "The custom code feature compares the three factorization techniques: Brute-Force Factorization, Pollard's Rho Factorization, and Fermat Factorization.\n",
    "The runtimes were found by using %%time which shows the computational time to complete the factorization.\n",
    "\n",
    "    Brute-Force Factorization:\n",
    "        This method uses a straightforward brute-force approach by iterating through numbers from 2 to n−1 to find the smallest factor.\n",
    "        Time Complexity: O(n)\n",
    "        The provided example shows a wall time of 20.6 seconds, highlighting its inefficiency for larger inputs.\n",
    "\n",
    "    Pollard's Rho Factorization:\n",
    "        Pollard's Rho is a probabilistic algorithm with better average-case runtime compared to brute-force.\n",
    "        It relies on randomization and a constant function f(x)=(x2+1)modn.\n",
    "        The example demonstrates a factorization in 35.4 milliseconds, showcasing its efficiency for the given large number.\n",
    "\n",
    "    Fermat Factorization:\n",
    "        Fermat's method aims to express n as the difference of two squares: n=a^2−b^2.\n",
    "        It is particularly efficient for large odd composite numbers.\n",
    "        The example shows a fast runtime of 95.8 µs due to its targeted approach."
   ]
  },
  {
   "cell_type": "markdown",
   "metadata": {},
   "source": [
    "# ---------------------------------------------------------------------------------------------------------------------------"
   ]
  },
  {
   "cell_type": "markdown",
   "metadata": {},
   "source": [
    "# Our Brute-Force Factorize Function"
   ]
  },
  {
   "cell_type": "code",
   "execution_count": 50,
   "metadata": {},
   "outputs": [
    {
     "name": "stdout",
     "output_type": "stream",
     "text": [
      "A factor of 57735179054157883 found using our factorize function: 240279349\n",
      "CPU times: user 20.6 s, sys: 0 ns, total: 20.6 s\n",
      "Wall time: 20.6 s\n"
     ]
    }
   ],
   "source": [
    "%%time\n",
    "def factorize(n):\n",
    "    # n is a number, return the smallest factor of n\n",
    "    for i in range(2, n):\n",
    "        if n % i == 0:\n",
    "            return i\n",
    "    return False\n",
    "\n",
    "#Test Usage\n",
    "large_number = 57735179054157883\n",
    "result = factorize(large_number)\n",
    "print(f\"A factor of {large_number} found using our factorize function: {result}\")"
   ]
  },
  {
   "cell_type": "markdown",
   "metadata": {},
   "source": [
    "## Brute-Force Factorize Explanation:\n",
    "The function provided by the example represents a basic brute-force factorization method. It aims to find the smallest factor of a given number n by iterating through all numbers from 2 to n-1.\n",
    "The time complexity of this method is linear (O(n)) since it iterates through each number up to n-1 until it finds a factor.\n",
    "The function uses a simple for loop that starts from 2 and checks if each number divides n. The first factor found is immediately returned.\n",
    "The inefficiency becomes apparent for large numbers, as the linear search through factors becomes extremely time consuming. The wall time of 20.6 seconds highlights the impracticality of brute-force factorization for larger inputs, which will only drastically increase as the value gets larger.\n",
    "This brute-force method serves as a baseline function for factorization but is not suitable for largeer scale factorization due to its inefficiency when values become larger."
   ]
  },
  {
   "cell_type": "markdown",
   "metadata": {},
   "source": [
    "# ---------------------------------------------------------------------------------------------------------------------------"
   ]
  },
  {
   "cell_type": "markdown",
   "metadata": {},
   "source": [
    "# Pollard's Rho Factorization Function"
   ]
  },
  {
   "cell_type": "code",
   "execution_count": 51,
   "metadata": {},
   "outputs": [
    {
     "name": "stdout",
     "output_type": "stream",
     "text": [
      "A factor of 57735179054157883 found using Pollard's Rho: 240279349\n",
      "CPU times: user 37.5 ms, sys: 0 ns, total: 37.5 ms\n",
      "Wall time: 35.4 ms\n"
     ]
    }
   ],
   "source": [
    "%%time\n",
    "import random\n",
    "\n",
    "def pollards_rho(n, max_iterations=100000000):\n",
    "    # Helper function to calculate the greatest common divisor\n",
    "    def gcd(a, b):\n",
    "        while b:\n",
    "            a, b = b, a % b\n",
    "        return a\n",
    "\n",
    "    # Initialize random starting points and a constant function\n",
    "    x = random.randint(1, n - 1)\n",
    "    y = x\n",
    "    d = 1\n",
    "\n",
    "    # Define the function f(x) used in the algorithm\n",
    "    f = lambda x: (x**2 + 1) % n\n",
    "\n",
    "    # Main loop of Pollard's Rho algorithm\n",
    "    for _ in range(max_iterations):\n",
    "        x = f(x)\n",
    "        y = f(f(y))\n",
    "        d = gcd(abs(x - y), n)\n",
    "\n",
    "        # If a non-trivial factor is found, return it\n",
    "        if d > 1:\n",
    "            return d\n",
    "    \n",
    "    # If no factor is found within the specified iterations, return None\n",
    "    return None\n",
    "\n",
    "# Test usage\n",
    "large_number = 57735179054157883\n",
    "result = pollards_rho(large_number)\n",
    "print(f\"A factor of {large_number} found using Pollard's Rho: {result}\")"
   ]
  },
  {
   "cell_type": "markdown",
   "metadata": {},
   "source": [
    "# Pollard's Rho Explanation\n",
    "Pollard's Rho is a probabilistic algorithm that uses randomization. It has a better average-case runtime compared to the brute-force method. Its runtime depends on the number of iterations and the nature of the input. For the given large number, it finds a factor much faster due to its efficient probabilistic approach.\n",
    "\n",
    "Pollard's Rho relies on randomization, initializing random starting points (x and y) and a constant function f(x). This introduces a level of unpredictability into the algorithm.\n",
    "The function f(x) is defined as (x**2 + 1) % n. This function, based on modular arithmetic, is at the core of Pollard's Rho and contributes to its efficiency.\n",
    "The algorithm iterates through the main loop a specified number of times (max_iterations). In each iteration, it updates the values of x and y using the function f(x).\n",
    "At each iteration, the algorithm calculates the greatest common divisor (GCD) of abs(x - y) and n. If a non-trivial factor is found (GCD > 1), it is returned immediately.\n",
    "If no factor is found within the specified iterations, the function returns None.\n",
    "\n",
    "### Runtime Analysis\n",
    "Pollard's Rho has a better average-case runtime compared to the brute-force method, especially for large numbers\n",
    "The runtime depends on the number of iterations (max_iterations). Increasing the number of iterations may increase the likelihood of finding a factor but will also increase the runtime. Larger numbers such as the example value provided require a significant increase in iterations in order to find the factor. "
   ]
  },
  {
   "cell_type": "markdown",
   "metadata": {},
   "source": [
    "# ----------------------------------------------------------------------------------------------------"
   ]
  },
  {
   "cell_type": "markdown",
   "metadata": {},
   "source": [
    "# Fermat Factorization Function"
   ]
  },
  {
   "cell_type": "code",
   "execution_count": 52,
   "metadata": {},
   "outputs": [
    {
     "name": "stdout",
     "output_type": "stream",
     "text": [
      "Factors of 57735179054157883 using Fermat's factorization: (240283567, 240279349)\n",
      "CPU times: user 102 µs, sys: 0 ns, total: 102 µs\n",
      "Wall time: 95.8 µs\n"
     ]
    }
   ],
   "source": [
    "%%time\n",
    "import math\n",
    "\n",
    "def fermat_factorization(n):\n",
    "    # Check if n is even\n",
    "    if n % 2 == 0:\n",
    "        return 2, n // 2\n",
    "    \n",
    "    # Express n as the difference of two squares: n = a^2 - b^2\n",
    "    a = math.isqrt(n) + 1  # Initial guess, rounded up to the nearest integer\n",
    "    b2 = a**2 - n\n",
    "    \n",
    "    # Adjust initial guess if b^2 is negative\n",
    "    while b2 < 0:\n",
    "        a += 1\n",
    "        b2 = a**2 - n\n",
    "    \n",
    "    # Keep incrementing a until b^2 is a perfect square\n",
    "    while not math.isqrt(b2)**2 == b2:\n",
    "        a += 1\n",
    "        b2 = a**2 - n\n",
    "    \n",
    "    # Calculate the factors\n",
    "    b = math.isqrt(b2)\n",
    "    return a + b, a - b\n",
    "\n",
    "# Test usage:\n",
    "large_number = 57735179054157883\n",
    "factors = fermat_factorization(large_number)\n",
    "print(f\"Factors of {large_number} using Fermat's factorization: {factors}\")"
   ]
  },
  {
   "cell_type": "markdown",
   "metadata": {},
   "source": [
    "# Fermat Factorization Explained:\n",
    "\n",
    "The Fermat Factorization method is employed to find the factors of a given odd number n. If n is even, it returns the factors immediately. This is because if n is not odd, it would have at least one factor of 2. In thiscase, Fermat's method can immediately return the factors 2 and n//2 without going through the process of expressing n as the difference of two squares. An initial guess for a is made by rounding up the square root of n. If b^2 is initially negative, a is adjusted until a non-negative value is obtained. The function then iteratively increments a until b^2 is a perfect square. The factors are then calculated based on the final values of a and b.\n",
    "\n",
    "### Runtime Analysis\n",
    "The runtime of the function is extremely fast, as seen in the provided test case with a wall time of 95.8 µs. This is due to the efficient nature of Fermat's factorization method for the given input. While in our provided example the runtime was significantly faster than Pollard's Rho factorization algorithm, this method may not be as effective for very large numbers or composite numbers with specific properties in direct comparison to Pollard's Rho. \n"
   ]
  },
  {
   "cell_type": "markdown",
   "metadata": {},
   "source": [
    "# ----------------------------------------------------------------------------------------------------"
   ]
  },
  {
   "cell_type": "markdown",
   "metadata": {},
   "source": [
    "**Please use the grading guide below to self grade your Custom Feature.**\n",
    "\n",
    "GRADING FOR CUSTOM FEATURE:\n",
    "\n",
    "15 pts  Wow.  It is amazing.\n",
    "        Shows initiative and originality. \n",
    "        You did something extra special and pushed yourself.\n",
    "        You went beyond all expectations \n",
    "        You broke the rules in a creative way. \n",
    "        Your coding and commenting is exceptional.\n",
    "        Excellent \n",
    "\n",
    "10 - 14 points - It is GOOD! \n",
    "        You were a “self starter.” \n",
    "         You did everything  requested. \n",
    "        All expectations met. \n",
    "       \tYou did a very good job. \n",
    "        Good use of commenting.\n",
    "        Shows mastery of skills.\n",
    "\n",
    "5 -10 points  - Okay.\n",
    "        Minimum requirements.\n",
    "        Commenting weak.\n",
    "\n",
    "0 -5 points - It is not finished. \n",
    "          Does meet objectives. \n",
    "            Did not follow directions. \n",
    "            Chose not to do this part (which is a totally fine choice)\n"
   ]
  },
  {
   "cell_type": "markdown",
   "metadata": {},
   "source": [
    "## Self grading of custom feature ##\n",
    "\n",
    "Here in this block, please rate what score out of 15 your custom feature merits given the criteria above:\n",
    "\n",
    "* For example, if you are brand new to programming, using a main function could be an amazing feature - tell me how this helped you move to a new level.\n",
    "* In what ways did you push yourself? Did you try something you've never done before?\n",
    "* Alternatively, if you just did not have the time to do the custum feature, that is actually just fine and a reasonable choice for an adult. No judgment."
   ]
  },
  {
   "cell_type": "markdown",
   "metadata": {},
   "source": [
    "# Self Assessment\n",
    "### 14 Points\n",
    "For my addition to this programming assignment, I decided to further improve the factorization function. First, I determined why the basic factorization function was inefficient and from there, researched various algorithms which would be more efficient. From this point, I determined that the two factorization techniques, Pollard's Rho and Fermat's factorization algorithms were both significantly more efficient than the default factorization function provided, but also were more efficient with varying inputs. \n",
    "\n",
    "Through this section, I pushed myself to understand and develop code which stayed true to the original Pollard's Rho and Fermat factorization algorithms while also understanding why they are more efficient than the basic factorization function. While I am proud of my accomplishments, they were definitely not the hardest coding assignments I've done and the majority of the time was understanding how the functions operated rather than coding. I believe that my code shows clean commenting which helps the reader understand what each part of the function is doing and efficient solutions within the functions. "
   ]
  },
  {
   "cell_type": "code",
   "execution_count": null,
   "metadata": {},
   "outputs": [],
   "source": []
  }
 ],
 "metadata": {
  "kernelspec": {
   "display_name": "Python 3 (ipykernel)",
   "language": "python",
   "name": "python3"
  },
  "language_info": {
   "codemirror_mode": {
    "name": "ipython",
    "version": 3
   },
   "file_extension": ".py",
   "mimetype": "text/x-python",
   "name": "python",
   "nbconvert_exporter": "python",
   "pygments_lexer": "ipython3",
   "version": "3.10.8"
  }
 },
 "nbformat": 4,
 "nbformat_minor": 4
}
